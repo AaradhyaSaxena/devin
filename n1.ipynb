{
 "cells": [
  {
   "cell_type": "code",
   "execution_count": 1,
   "id": "504baff1-8c1a-4f92-b9c0-16d505cf4ddd",
   "metadata": {},
   "outputs": [],
   "source": [
    "import pandas as pd\n",
    "import os\n",
    "\n",
    "class DataLoader:\n",
    "    @staticmethod\n",
    "    def analyze_repository(repo_path) -> pd.DataFrame:\n",
    "        file_contents = {}\n",
    "        for root, _, files in os.walk(repo_path):\n",
    "            for file in files:\n",
    "                file_path = os.path.join(root, file)\n",
    "                try:\n",
    "                    with open(file_path, 'r', encoding='utf-8') as f:\n",
    "                        content = f.read()\n",
    "                    file_contents[file] = content\n",
    "                except Exception as e:\n",
    "                    print(f\"Error reading file {file}: {str(e)}\")\n",
    "                    file_contents[file] = \"Error reading file\"\n",
    "        \n",
    "        df = pd.DataFrame(list(file_contents.items()), columns=['File Name', 'Content'])\n",
    "        return df"
   ]
  },
  {
   "cell_type": "code",
   "execution_count": 2,
   "id": "d5e00bf8-3c0d-4a12-aaf8-afeb0a39a134",
   "metadata": {},
   "outputs": [],
   "source": [
    "df = DataLoader().analyze_repository('./codebase/')"
   ]
  },
  {
   "cell_type": "code",
   "execution_count": 3,
   "id": "f384e43f-5c49-4a97-83bc-758ea1f13024",
   "metadata": {},
   "outputs": [
    {
     "data": {
      "text/html": [
       "<div>\n",
       "<style scoped>\n",
       "    .dataframe tbody tr th:only-of-type {\n",
       "        vertical-align: middle;\n",
       "    }\n",
       "\n",
       "    .dataframe tbody tr th {\n",
       "        vertical-align: top;\n",
       "    }\n",
       "\n",
       "    .dataframe thead th {\n",
       "        text-align: right;\n",
       "    }\n",
       "</style>\n",
       "<table border=\"1\" class=\"dataframe\">\n",
       "  <thead>\n",
       "    <tr style=\"text-align: right;\">\n",
       "      <th></th>\n",
       "      <th>File Name</th>\n",
       "      <th>Content</th>\n",
       "    </tr>\n",
       "  </thead>\n",
       "  <tbody>\n",
       "    <tr>\n",
       "      <th>0</th>\n",
       "      <td>test.properties</td>\n",
       "      <td>spring.main.allow-bean-definition-overriding=t...</td>\n",
       "    </tr>\n",
       "    <tr>\n",
       "      <th>1</th>\n",
       "      <td>application-test.yaml</td>\n",
       "      <td>spring:\\n  config:\\n    import: optional:file:...</td>\n",
       "    </tr>\n",
       "    <tr>\n",
       "      <th>2</th>\n",
       "      <td>WFTest.java</td>\n",
       "      <td>package com.wayfair.price.adjustment.system;\\n...</td>\n",
       "    </tr>\n",
       "    <tr>\n",
       "      <th>3</th>\n",
       "      <td>GCPClientConfigTestConfiguration.java</td>\n",
       "      <td>package com.wayfair.price.adjustment.system.co...</td>\n",
       "    </tr>\n",
       "    <tr>\n",
       "      <th>4</th>\n",
       "      <td>RestClientConfigTest.java</td>\n",
       "      <td>package com.wayfair.price.adjustment.system.co...</td>\n",
       "    </tr>\n",
       "    <tr>\n",
       "      <th>...</th>\n",
       "      <td>...</td>\n",
       "      <td>...</td>\n",
       "    </tr>\n",
       "    <tr>\n",
       "      <th>398</th>\n",
       "      <td>PiEpsilonGQLFieldResolver.java</td>\n",
       "      <td>package com.wayfair.price.adjustment.system.re...</td>\n",
       "    </tr>\n",
       "    <tr>\n",
       "      <th>399</th>\n",
       "      <td>LmgrGQLFieldResolver.java</td>\n",
       "      <td>package com.wayfair.price.adjustment.system.re...</td>\n",
       "    </tr>\n",
       "    <tr>\n",
       "      <th>400</th>\n",
       "      <td>BulkPriceGQLFieldResolver.java</td>\n",
       "      <td>package com.wayfair.price.adjustment.system.re...</td>\n",
       "    </tr>\n",
       "    <tr>\n",
       "      <th>401</th>\n",
       "      <td>FspGQLFieldResolver.java</td>\n",
       "      <td>package com.wayfair.price.adjustment.system.re...</td>\n",
       "    </tr>\n",
       "    <tr>\n",
       "      <th>402</th>\n",
       "      <td>ExperimentGQLFieldResolver.java</td>\n",
       "      <td>package com.wayfair.price.adjustment.system.re...</td>\n",
       "    </tr>\n",
       "  </tbody>\n",
       "</table>\n",
       "<p>403 rows × 2 columns</p>\n",
       "</div>"
      ],
      "text/plain": [
       "                                 File Name  \\\n",
       "0                          test.properties   \n",
       "1                    application-test.yaml   \n",
       "2                              WFTest.java   \n",
       "3    GCPClientConfigTestConfiguration.java   \n",
       "4                RestClientConfigTest.java   \n",
       "..                                     ...   \n",
       "398         PiEpsilonGQLFieldResolver.java   \n",
       "399              LmgrGQLFieldResolver.java   \n",
       "400         BulkPriceGQLFieldResolver.java   \n",
       "401               FspGQLFieldResolver.java   \n",
       "402        ExperimentGQLFieldResolver.java   \n",
       "\n",
       "                                               Content  \n",
       "0    spring.main.allow-bean-definition-overriding=t...  \n",
       "1    spring:\\n  config:\\n    import: optional:file:...  \n",
       "2    package com.wayfair.price.adjustment.system;\\n...  \n",
       "3    package com.wayfair.price.adjustment.system.co...  \n",
       "4    package com.wayfair.price.adjustment.system.co...  \n",
       "..                                                 ...  \n",
       "398  package com.wayfair.price.adjustment.system.re...  \n",
       "399  package com.wayfair.price.adjustment.system.re...  \n",
       "400  package com.wayfair.price.adjustment.system.re...  \n",
       "401  package com.wayfair.price.adjustment.system.re...  \n",
       "402  package com.wayfair.price.adjustment.system.re...  \n",
       "\n",
       "[403 rows x 2 columns]"
      ]
     },
     "execution_count": 3,
     "metadata": {},
     "output_type": "execute_result"
    }
   ],
   "source": [
    "df"
   ]
  },
  {
   "cell_type": "code",
   "execution_count": null,
   "id": "b380cc6b-6c3b-4445-9d32-b9242ac5f9fc",
   "metadata": {},
   "outputs": [],
   "source": []
  },
  {
   "cell_type": "code",
   "execution_count": null,
   "id": "09bbc0d3-27f2-4008-ad78-916074978b2d",
   "metadata": {},
   "outputs": [],
   "source": []
  },
  {
   "cell_type": "code",
   "execution_count": null,
   "id": "b3533af8-b94a-4e66-85ef-cbd35c934e57",
   "metadata": {},
   "outputs": [],
   "source": []
  },
  {
   "cell_type": "code",
   "execution_count": null,
   "id": "898697b2-fc61-4ee2-b507-1c6d88db136c",
   "metadata": {},
   "outputs": [],
   "source": []
  },
  {
   "cell_type": "code",
   "execution_count": null,
   "id": "7d90daa5-55a1-4c12-b57a-cbf2f84c2012",
   "metadata": {},
   "outputs": [],
   "source": []
  },
  {
   "cell_type": "code",
   "execution_count": null,
   "id": "0233d2e2-c5be-49d3-8be0-f9075e155d74",
   "metadata": {},
   "outputs": [],
   "source": []
  },
  {
   "cell_type": "code",
   "execution_count": null,
   "id": "3df2cb2f-d1bb-4039-9975-244797c0c28f",
   "metadata": {},
   "outputs": [],
   "source": []
  },
  {
   "cell_type": "code",
   "execution_count": null,
   "id": "a2352fad-6429-4115-b523-3e7091cbdcfa",
   "metadata": {},
   "outputs": [],
   "source": []
  },
  {
   "cell_type": "code",
   "execution_count": null,
   "id": "ae1091bc-ba4a-4a32-9007-f1a9a152f906",
   "metadata": {},
   "outputs": [],
   "source": []
  },
  {
   "cell_type": "code",
   "execution_count": null,
   "id": "ba925813-6454-4edf-a72b-9aff3eeca48c",
   "metadata": {},
   "outputs": [],
   "source": []
  },
  {
   "cell_type": "code",
   "execution_count": null,
   "id": "36ca9f7e-fd23-4274-acfb-515994e45355",
   "metadata": {},
   "outputs": [],
   "source": []
  },
  {
   "cell_type": "code",
   "execution_count": null,
   "id": "b75c95f3-aee6-4f87-a86d-1dfde88d868c",
   "metadata": {},
   "outputs": [],
   "source": []
  }
 ],
 "metadata": {
  "kernelspec": {
   "display_name": "Python 3 (ipykernel)",
   "language": "python",
   "name": "python3"
  },
  "language_info": {
   "codemirror_mode": {
    "name": "ipython",
    "version": 3
   },
   "file_extension": ".py",
   "mimetype": "text/x-python",
   "name": "python",
   "nbconvert_exporter": "python",
   "pygments_lexer": "ipython3",
   "version": "3.12.4"
  }
 },
 "nbformat": 4,
 "nbformat_minor": 5
}
